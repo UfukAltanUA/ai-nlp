{
 "cells": [
  {
   "cell_type": "code",
   "execution_count": 13,
   "metadata": {},
   "outputs": [],
   "source": [
    "import spacy\n",
    "from spacy.lang.en.stop_words import STOP_WORDS\n",
    "from string import punctuation\n",
    "\n",
    "nlp = spacy.load('en_core_web_sm')"
   ]
  },
  {
   "cell_type": "code",
   "execution_count": 2,
   "metadata": {},
   "outputs": [],
   "source": [
    "text = \"\"\"\n",
    "How to Burn Fat Fast? Metabolism\n",
    "Burning Calories \n",
    " \n",
    "An average person who is 180 lbs, burns 225 calories for an hour walking, 402 calories for an hour running and 658 calories for an hour biking. Numbers might slightly change in different experiments. Anyway; after days, weeks or even months of work out, people tend to stuck at the similar rates of fate every time they measure it. Of course, their couches' or fitness educators' recommendations would be a better nutrition diet with excessive amount of vegetables and banished sugar contained foods. Well, the most frequent question I get is \"How can I lose weight while whatever, whenever or wherever I eat as much as I want, without any restrictions?\". It looks like a well imagined question without any effort of realistic thinking. Fortunately, science of mathematics might be a logical evidence to prove that this is possible. This is probably going to look too assertive, but being assertive is the leading cause of big thinkers anyway.\n",
    " \n",
    "Metabolism\n",
    " \n",
    "Imagine a stinging nettle on a garden, quickly growing up and becoming a threat to the ones who step nearby it. Would you cut it from the top of it or would you grab its root and pull it out completely? Burning calories by walking and running is like cutting a stinging nettle from its top and hoping that it will never grow up as a thread. On the other hand, removing it with its root is getting rid of it completely. \n",
    " \n",
    "Metabolism can be defined as the body's capability of burning calories in order to produce energy. Believe it or not running on a treadmill is not going to change your current fat rate as satisfying as you desire. Increasing the metabolism, however, will be utilizing resources starting with the carbohydrates first, and fats second in order to produce required energy. Increased metabolism will ensure;\n",
    " \n",
    "More Energy\n",
    "Weight Loss\n",
    "Better Hormonal Balance\n",
    "Younger Skin\n",
    "Immune Strength\n",
    "Stabilized Blood Sugar\n",
    " \n",
    "With an increased metabolism, body will start decreasing the fat rate even while sleeping, eating the delicious cheesecake or sitting on the office in a daily schedule. As long as the number of burned calories are greater than the gained amount, body fat would be melting like a piece of ice in the fire.\n",
    " \n",
    "How to Increase it? The Brain\n",
    " \n",
    "The brain's most prominent feature is the reaction of keeping humans alive. Brain will be act as it is wired and if the brain considers the energy as an OBLIGATION for some reason, it will do its best to provide it. Therefore, consuming the energy by applying energy required exercises can trick the brain for burning more calories.\n",
    " \n",
    "But running and biking are also energy required exercises. Why don't they wire the brain for the mentioned purpose? Since the brain tries to keep us alive, bodies and minds tend to adapt to certain situations. One or two applied exercises give the brain its opportunity for adaptation. With the adaptation body slow downs the energy consumption to not waste it and utilize it at the required time. As a result, variety of exercises in a non-stop energy required training program is a necessity for metabolism' enhancement. Here are some examples;\n",
    "\"\"\""
   ]
  },
  {
   "cell_type": "code",
   "execution_count": null,
   "metadata": {},
   "outputs": [],
   "source": []
  },
  {
   "cell_type": "code",
   "execution_count": 5,
   "metadata": {},
   "outputs": [
    {
     "name": "stdout",
     "output_type": "stream",
     "text": [
      "['\\n', 'How', 'to', 'Burn', 'Fat', 'Fast', '?', 'Metabolism', '\\n', 'Burning', 'Calories', '\\n \\n', 'An', 'average', 'person', 'who', 'is', '180', 'lbs', ',', 'burns', '225', 'calories', 'for', 'an', 'hour', 'walking', ',', '402', 'calories', 'for', 'an', 'hour', 'running', 'and', '658', 'calories', 'for', 'an', 'hour', 'biking', '.', 'Numbers', 'might', 'slightly', 'change', 'in', 'different', 'experiments', '.', 'Anyway', ';', 'after', 'days', ',', 'weeks', 'or', 'even', 'months', 'of', 'work', 'out', ',', 'people', 'tend', 'to', 'stuck', 'at', 'the', 'similar', 'rates', 'of', 'fate', 'every', 'time', 'they', 'measure', 'it', '.', 'Of', 'course', ',', 'their', 'couches', \"'\", 'or', 'fitness', 'educators', \"'\", 'recommendations', 'would', 'be', 'a', 'better', 'nutrition', 'diet', 'with', 'excessive', 'amount', 'of', 'vegetables', 'and', 'banished', 'sugar', 'contained', 'foods', '.', 'Well', ',', 'the', 'most', 'frequent', 'question', 'I', 'get', 'is', '\"', 'How', 'can', 'I', 'lose', 'weight', 'while', 'whatever', ',', 'whenever', 'or', 'wherever', 'I', 'eat', 'as', 'much', 'as', 'I', 'want', ',', 'without', 'any', 'restrictions', '?', '\"', '.', 'It', 'looks', 'like', 'a', 'well', 'imagined', 'question', 'without', 'any', 'effort', 'of', 'realistic', 'thinking', '.', 'Fortunately', ',', 'science', 'of', 'mathematics', 'might', 'be', 'a', 'logical', 'evidence', 'to', 'prove', 'that', 'this', 'is', 'possible', '.', 'This', 'is', 'probably', 'going', 'to', 'look', 'too', 'assertive', ',', 'but', 'being', 'assertive', 'is', 'the', 'leading', 'cause', 'of', 'big', 'thinkers', 'anyway', '.', '\\n \\n', 'Metabolism', '\\n \\n', 'Imagine', 'a', 'stinging', 'nettle', 'on', 'a', 'garden', ',', 'quickly', 'growing', 'up', 'and', 'becoming', 'a', 'threat', 'to', 'the', 'ones', 'who', 'step', 'nearby', 'it', '.', 'Would', 'you', 'cut', 'it', 'from', 'the', 'top', 'of', 'it', 'or', 'would', 'you', 'grab', 'its', 'root', 'and', 'pull', 'it', 'out', 'completely', '?', 'Burning', 'calories', 'by', 'walking', 'and', 'running', 'is', 'like', 'cutting', 'a', 'stinging', 'nettle', 'from', 'its', 'top', 'and', 'hoping', 'that', 'it', 'will', 'never', 'grow', 'up', 'as', 'a', 'thread', '.', 'On', 'the', 'other', 'hand', ',', 'removing', 'it', 'with', 'its', 'root', 'is', 'getting', 'rid', 'of', 'it', 'completely', '.', '\\n \\n', 'Metabolism', 'can', 'be', 'defined', 'as', 'the', 'body', \"'s\", 'capability', 'of', 'burning', 'calories', 'in', 'order', 'to', 'produce', 'energy', '.', 'Believe', 'it', 'or', 'not', 'running', 'on', 'a', 'treadmill', 'is', 'not', 'going', 'to', 'change', 'your', 'current', 'fat', 'rate', 'as', 'satisfying', 'as', 'you', 'desire', '.', 'Increasing', 'the', 'metabolism', ',', 'however', ',', 'will', 'be', 'utilizing', 'resources', 'starting', 'with', 'the', 'carbohydrates', 'first', ',', 'and', 'fats', 'second', 'in', 'order', 'to', 'produce', 'required', 'energy', '.', 'Increased', 'metabolism', 'will', 'ensure', ';', '\\n \\n', 'More', 'Energy', '\\n', 'Weight', 'Loss', '\\n', 'Better', 'Hormonal', 'Balance', '\\n', 'Younger', 'Skin', '\\n', 'Immune', 'Strength', '\\n', 'Stabilized', 'Blood', 'Sugar', '\\n \\n', 'With', 'an', 'increased', 'metabolism', ',', 'body', 'will', 'start', 'decreasing', 'the', 'fat', 'rate', 'even', 'while', 'sleeping', ',', 'eating', 'the', 'delicious', 'cheesecake', 'or', 'sitting', 'on', 'the', 'office', 'in', 'a', 'daily', 'schedule', '.', 'As', 'long', 'as', 'the', 'number', 'of', 'burned', 'calories', 'are', 'greater', 'than', 'the', 'gained', 'amount', ',', 'body', 'fat', 'would', 'be', 'melting', 'like', 'a', 'piece', 'of', 'ice', 'in', 'the', 'fire', '.', '\\n \\n', 'How', 'to', 'Increase', 'it', '?', 'The', 'Brain', '\\n \\n', 'The', 'brain', \"'s\", 'most', 'prominent', 'feature', 'is', 'the', 'reaction', 'of', 'keeping', 'humans', 'alive', '.', 'Brain', 'will', 'be', 'act', 'as', 'it', 'is', 'wired', 'and', 'if', 'the', 'brain', 'considers', 'the', 'energy', 'as', 'an', 'OBLIGATION', 'for', 'some', 'reason', ',', 'it', 'will', 'do', 'its', 'best', 'to', 'provide', 'it', '.', 'Therefore', ',', 'consuming', 'the', 'energy', 'by', 'applying', 'energy', 'required', 'exercises', 'can', 'trick', 'the', 'brain', 'for', 'burning', 'more', 'calories', '.', '\\n \\n', 'But', 'running', 'and', 'biking', 'are', 'also', 'energy', 'required', 'exercises', '.', 'Why', 'do', \"n't\", 'they', 'wire', 'the', 'brain', 'for', 'the', 'mentioned', 'purpose', '?', 'Since', 'the', 'brain', 'tries', 'to', 'keep', 'us', 'alive', ',', 'bodies', 'and', 'minds', 'tend', 'to', 'adapt', 'to', 'certain', 'situations', '.', 'One', 'or', 'two', 'applied', 'exercises', 'give', 'the', 'brain', 'its', 'opportunity', 'for', 'adaptation', '.', 'With', 'the', 'adaptation', 'body', 'slow', 'downs', 'the', 'energy', 'consumption', 'to', 'not', 'waste', 'it', 'and', 'utilize', 'it', 'at', 'the', 'required', 'time', '.', 'As', 'a', 'result', ',', 'variety', 'of', 'exercises', 'in', 'a', 'non', '-', 'stop', 'energy', 'required', 'training', 'program', 'is', 'a', 'necessity', 'for', 'metabolism', \"'\", 'enhancement', '.', 'Here', 'are', 'some', 'examples', ';', '\\n']\n"
     ]
    }
   ],
   "source": [
    "doc = nlp(text)\n",
    "\n",
    "tokens = [token.text for token in doc]\n",
    "print(tokens)"
   ]
  },
  {
   "cell_type": "code",
   "execution_count": 9,
   "metadata": {},
   "outputs": [
    {
     "data": {
      "text/plain": [
       "'!\"#$%&\\'()*+,-./:;<=>?@[\\\\]^_`{|}~\\n\\n'"
      ]
     },
     "execution_count": 9,
     "metadata": {},
     "output_type": "execute_result"
    }
   ],
   "source": [
    "punctuation = punctuation + '\\n'\n",
    "punctuation"
   ]
  },
  {
   "cell_type": "code",
   "execution_count": 15,
   "metadata": {},
   "outputs": [],
   "source": [
    "word_freq = {}\n",
    "\n",
    "stop_words = list(STOP_WORDS)\n",
    "\n",
    "for word in doc:\n",
    "    if word.text.lower() not in stop_words and word.text.lower() not in punctuation:\n",
    "        if word.text not in word_freq.keys():\n",
    "            word_freq[word.text] = 1\n",
    "        else:\n",
    "            word_freq[word.text] += 1"
   ]
  },
  {
   "cell_type": "code",
   "execution_count": 16,
   "metadata": {},
   "outputs": [
    {
     "name": "stdout",
     "output_type": "stream",
     "text": [
      "{'Burn': 1, 'Fat': 1, 'Fast': 1, 'Metabolism': 3, 'Burning': 2, 'Calories': 1, '\\n \\n': 9, 'average': 1, 'person': 1, '180': 1, 'lbs': 1, 'burns': 1, '225': 1, 'calories': 7, 'hour': 3, 'walking': 2, '402': 1, 'running': 4, '658': 1, 'biking': 2, 'Numbers': 1, 'slightly': 1, 'change': 2, 'different': 1, 'experiments': 1, 'days': 1, 'weeks': 1, 'months': 1, 'work': 1, 'people': 1, 'tend': 2, 'stuck': 1, 'similar': 1, 'rates': 1, 'fate': 1, 'time': 2, 'measure': 1, 'course': 1, 'couches': 1, 'fitness': 1, 'educators': 1, 'recommendations': 1, 'better': 1, 'nutrition': 1, 'diet': 1, 'excessive': 1, 'vegetables': 1, 'banished': 1, 'sugar': 1, 'contained': 1, 'foods': 1, 'frequent': 1, 'question': 2, 'lose': 1, 'weight': 1, 'eat': 1, 'want': 1, 'restrictions': 1, 'looks': 1, 'like': 3, 'imagined': 1, 'effort': 1, 'realistic': 1, 'thinking': 1, 'Fortunately': 1, 'science': 1, 'mathematics': 1, 'logical': 1, 'evidence': 1, 'prove': 1, 'possible': 1, 'probably': 1, 'going': 2, 'look': 1, 'assertive': 2, 'leading': 1, 'cause': 1, 'big': 1, 'thinkers': 1, 'Imagine': 1, 'stinging': 2, 'nettle': 2, 'garden': 1, 'quickly': 1, 'growing': 1, 'threat': 1, 'ones': 1, 'step': 1, 'nearby': 1, 'cut': 1, 'grab': 1, 'root': 2, 'pull': 1, 'completely': 2, 'cutting': 1, 'hoping': 1, 'grow': 1, 'thread': 1, 'hand': 1, 'removing': 1, 'getting': 1, 'rid': 1, 'defined': 1, 'body': 4, 'capability': 1, 'burning': 2, 'order': 2, 'produce': 2, 'energy': 8, 'Believe': 1, 'treadmill': 1, 'current': 1, 'fat': 3, 'rate': 2, 'satisfying': 1, 'desire': 1, 'Increasing': 1, 'metabolism': 4, 'utilizing': 1, 'resources': 1, 'starting': 1, 'carbohydrates': 1, 'fats': 1, 'second': 1, 'required': 5, 'Increased': 1, 'ensure': 1, 'Energy': 1, 'Weight': 1, 'Loss': 1, 'Better': 1, 'Hormonal': 1, 'Balance': 1, 'Younger': 1, 'Skin': 1, 'Immune': 1, 'Strength': 1, 'Stabilized': 1, 'Blood': 1, 'Sugar': 1, 'increased': 1, 'start': 1, 'decreasing': 1, 'sleeping': 1, 'eating': 1, 'delicious': 1, 'cheesecake': 1, 'sitting': 1, 'office': 1, 'daily': 1, 'schedule': 1, 'long': 1, 'number': 1, 'burned': 1, 'greater': 1, 'gained': 1, 'melting': 1, 'piece': 1, 'ice': 1, 'fire': 1, 'Increase': 1, 'Brain': 2, 'brain': 6, 'prominent': 1, 'feature': 1, 'reaction': 1, 'keeping': 1, 'humans': 1, 'alive': 2, 'act': 1, 'wired': 1, 'considers': 1, 'OBLIGATION': 1, 'reason': 1, 'best': 1, 'provide': 1, 'consuming': 1, 'applying': 1, 'exercises': 4, 'trick': 1, 'wire': 1, 'mentioned': 1, 'purpose': 1, 'tries': 1, 'bodies': 1, 'minds': 1, 'adapt': 1, 'certain': 1, 'situations': 1, 'applied': 1, 'opportunity': 1, 'adaptation': 2, 'slow': 1, 'downs': 1, 'consumption': 1, 'waste': 1, 'utilize': 1, 'result': 1, 'variety': 1, 'non': 1, 'stop': 1, 'training': 1, 'program': 1, 'necessity': 1, 'enhancement': 1, 'examples': 1}\n"
     ]
    }
   ],
   "source": [
    "print(word_freq)"
   ]
  },
  {
   "cell_type": "code",
   "execution_count": 19,
   "metadata": {},
   "outputs": [],
   "source": [
    "max_freg = max(word_freq.values())\n",
    "\n",
    "for word in word_freq.keys():\n",
    "    word_freq[word] = word_freq[word] / max_freg\n",
    "    \n",
    "sent_tokens = [sent for sent in doc.sents]    "
   ]
  },
  {
   "cell_type": "code",
   "execution_count": 24,
   "metadata": {},
   "outputs": [],
   "source": [
    "sent_score = {}\n",
    "\n",
    "for sent in sent_tokens:\n",
    "    for word in sent:\n",
    "        if word.text.lower() in word_freq.keys():\n",
    "            if sent not in sent_score.keys():\n",
    "                sent_score[sent] = word_freq[word.text.lower()]\n",
    "            else:\n",
    "                sent_score[sent] += word_freq[word.text.lower()]"
   ]
  },
  {
   "cell_type": "code",
   "execution_count": 3,
   "metadata": {},
   "outputs": [],
   "source": [
    "from heapq import nlargest"
   ]
  },
  {
   "cell_type": "code",
   "execution_count": 29,
   "metadata": {},
   "outputs": [
    {
     "data": {
      "text/plain": [
       "9.0"
      ]
     },
     "execution_count": 29,
     "metadata": {},
     "output_type": "execute_result"
    }
   ],
   "source": [
    "len(sent_score) * 0.3"
   ]
  },
  {
   "cell_type": "code",
   "execution_count": 38,
   "metadata": {},
   "outputs": [],
   "source": [
    "summary = nlargest(9, sent_score, key=sent_score.get)"
   ]
  },
  {
   "cell_type": "code",
   "execution_count": 41,
   "metadata": {},
   "outputs": [],
   "source": [
    "final_summary = [word.text for word in summary]\n",
    "summary = \" \".join(final_summary)"
   ]
  },
  {
   "cell_type": "code",
   "execution_count": 43,
   "metadata": {},
   "outputs": [
    {
     "name": "stdout",
     "output_type": "stream",
     "text": [
      "Increased metabolism will ensure;\n",
      " \n",
      "More Energy\n",
      "Weight Loss\n",
      "Better Hormonal Balance\n",
      "Younger Skin\n",
      "Immune Strength\n",
      "Stabilized Blood Sugar\n",
      " \n",
      "With an increased metabolism, body will start decreasing the fat rate even while sleeping, eating the delicious cheesecake or sitting on the office in a daily schedule. Therefore, consuming the energy by applying energy required exercises can trick the brain for burning more calories.\n",
      " \n",
      " An average person who is 180 lbs, burns 225 calories for an hour walking, 402 calories for an hour running and 658 calories for an hour biking. As long as the number of burned calories are greater than the gained amount, body fat would be melting like a piece of ice in the fire.\n",
      " \n",
      " Metabolism can be defined as the body's capability of burning calories in order to produce energy. As a result, variety of exercises in a non-stop energy required training program is a necessity for metabolism' enhancement. Increasing the metabolism, however, will be utilizing resources starting with the carbohydrates first, and fats second in order to produce required energy. Burning calories by walking and running is like cutting a stinging nettle from its top and hoping that it will never grow up as a thread. With the adaptation body slow downs the energy consumption to not waste it and utilize it at the required time.\n"
     ]
    }
   ],
   "source": [
    "print(summary)"
   ]
  },
  {
   "cell_type": "code",
   "execution_count": null,
   "metadata": {},
   "outputs": [],
   "source": []
  },
  {
   "cell_type": "code",
   "execution_count": null,
   "metadata": {},
   "outputs": [],
   "source": []
  },
  {
   "cell_type": "code",
   "execution_count": null,
   "metadata": {},
   "outputs": [],
   "source": []
  },
  {
   "cell_type": "code",
   "execution_count": 15,
   "metadata": {},
   "outputs": [],
   "source": [
    "def tokenize_and_clean(text, punctuate = 0):\n",
    "    \n",
    "    \n",
    "    from string import punctuation\n",
    "\n",
    "    \n",
    "    doc = nlp(text)\n",
    "    tokens = [token.text for token in doc]\n",
    "    \n",
    "    if punctuate !=0:\n",
    "        for p in punctuate:\n",
    "            punctuation = punctuation + p\n",
    "    \n",
    "    return doc \n",
    "   "
   ]
  },
  {
   "cell_type": "code",
   "execution_count": 16,
   "metadata": {},
   "outputs": [],
   "source": [
    "def score_words(doc):\n",
    "    \n",
    "    word_freq = {}\n",
    "\n",
    "    stop_words = list(STOP_WORDS)\n",
    "\n",
    "    for word in doc:\n",
    "        if word.text.lower() not in stop_words and word.text.lower() not in punctuation:\n",
    "            if word.text not in word_freq.keys():\n",
    "                word_freq[word.text] = 1\n",
    "            else:\n",
    "                word_freq[word.text] += 1\n",
    "\n",
    "    max_freg = max(word_freq.values())\n",
    "\n",
    "    for word in word_freq.keys():\n",
    "        word_freq[word] = word_freq[word] / max_freg\n",
    "    \n",
    "    return word_freq\n",
    "\n"
   ]
  },
  {
   "cell_type": "code",
   "execution_count": 17,
   "metadata": {},
   "outputs": [],
   "source": [
    "def score_sentence(word_freq):\n",
    "\n",
    "    sent_score = {}\n",
    "\n",
    "    sent_tokens = [sent for sent in doc.sents]   \n",
    "    for sent in sent_tokens:\n",
    "        for word in sent:\n",
    "            if word.text.lower() in word_freq.keys():\n",
    "                if sent not in sent_score.keys():\n",
    "                    sent_score[sent] = word_freq[word.text.lower()]\n",
    "                else:\n",
    "                    sent_score[sent] += word_freq[word.text.lower()]\n",
    "                    \n",
    "    return sent_score                "
   ]
  },
  {
   "cell_type": "code",
   "execution_count": 18,
   "metadata": {},
   "outputs": [],
   "source": [
    "def summarize_by_percentage(sent_score, percentage):\n",
    "    \n",
    "    '''\n",
    "    from heapq import nlargest    \n",
    "    '''\n",
    "    sentences = len(sent_score) * percentage\n",
    "    sentences = round(sentences)\n",
    "\n",
    "    summary = nlargest(sentences, sent_score, key=sent_score.get)\n",
    "    final_summary = [word.text for word in summary]\n",
    "    summary = \" \".join(final_summary)\n",
    "\n",
    "    return summary"
   ]
  },
  {
   "cell_type": "code",
   "execution_count": 8,
   "metadata": {},
   "outputs": [],
   "source": [
    "punctuations = ['\\n', '\\t', '*']"
   ]
  },
  {
   "cell_type": "code",
   "execution_count": 14,
   "metadata": {},
   "outputs": [
    {
     "data": {
      "text/plain": [
       "'!\"#$%&\\'()*+,-./:;<=>?@[\\\\]^_`{|}~'"
      ]
     },
     "execution_count": 14,
     "metadata": {},
     "output_type": "execute_result"
    }
   ],
   "source": [
    "punctuation"
   ]
  },
  {
   "cell_type": "code",
   "execution_count": 19,
   "metadata": {},
   "outputs": [],
   "source": [
    "doc = tokenize_and_clean(text, punctuate=punctuations)\n",
    "word_freq = score_words(doc)\n",
    "sent_score = score_sentence(word_freq)\n",
    "summary = summarize_by_percentage(sent_score, 0.3)"
   ]
  },
  {
   "cell_type": "code",
   "execution_count": 80,
   "metadata": {},
   "outputs": [
    {
     "name": "stdout",
     "output_type": "stream",
     "text": [
      "Increased metabolism will ensure;\n",
      " \n",
      "More Energy\n",
      "Weight Loss\n",
      "Better Hormonal Balance\n",
      "Younger Skin\n",
      "Immune Strength\n",
      "Stabilized Blood Sugar\n",
      " \n",
      "With an increased metabolism, body will start decreasing the fat rate even while sleeping, eating the delicious cheesecake or sitting on the office in a daily schedule. Therefore, consuming the energy by applying energy required exercises can trick the brain for burning more calories.\n",
      " \n",
      " An average person who is 180 lbs, burns 225 calories for an hour walking, 402 calories for an hour running and 658 calories for an hour biking. As long as the number of burned calories are greater than the gained amount, body fat would be melting like a piece of ice in the fire.\n",
      " \n",
      " Metabolism can be defined as the body's capability of burning calories in order to produce energy. As a result, variety of exercises in a non-stop energy required training program is a necessity for metabolism' enhancement. Increasing the metabolism, however, will be utilizing resources starting with the carbohydrates first, and fats second in order to produce required energy. Burning calories by walking and running is like cutting a stinging nettle from its top and hoping that it will never grow up as a thread. With the adaptation body slow downs the energy consumption to not waste it and utilize it at the required time.\n"
     ]
    }
   ],
   "source": [
    "print(summary)"
   ]
  },
  {
   "cell_type": "code",
   "execution_count": null,
   "metadata": {},
   "outputs": [],
   "source": []
  }
 ],
 "metadata": {
  "kernelspec": {
   "display_name": "Python 3",
   "language": "python",
   "name": "python3"
  },
  "language_info": {
   "codemirror_mode": {
    "name": "ipython",
    "version": 3
   },
   "file_extension": ".py",
   "mimetype": "text/x-python",
   "name": "python",
   "nbconvert_exporter": "python",
   "pygments_lexer": "ipython3",
   "version": "3.7.3"
  }
 },
 "nbformat": 4,
 "nbformat_minor": 2
}
